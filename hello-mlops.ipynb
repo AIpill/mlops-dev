{
 "cells": [
  {
   "cell_type": "code",
   "execution_count": null,
   "metadata": {},
   "outputs": [],
   "source": [
    "print('Hello MLOPS')"
   ]
  }
 ],
 "metadata": {
  "kernelspec": {
   "display_name": "mlops-course",
   "language": "python",
   "name": "python3"
  },
  "language_info": {
   "name": "python",
   "version": "3.11.0"
  },
  "orig_nbformat": 4,
  "vscode": {
   "interpreter": {
    "hash": "12bf5fb05da9a86c51a8957db5ffde6fd47ab3ebd900c2d624f79259282808b1"
   }
  }
 },
 "nbformat": 4,
 "nbformat_minor": 2
}
